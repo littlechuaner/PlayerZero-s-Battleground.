{
 "cells": [
  {
   "cell_type": "markdown",
   "metadata": {},
   "source": [
    "# Boston数据集PCA分析\n",
    "\n",
    "在这个notebook里，我们以Boston房价数据集为例，演示简单的PCA数据分析。\n",
    "\n",
    "\n",
    "参考资料：\n",
    "- [House Prices: Advanced Regression Techniques](https://www.kaggle.com/c/house-prices-advanced-regression-techniques)"
   ]
  },
  {
   "cell_type": "code",
   "execution_count": 331,
   "metadata": {
    "collapsed": true
   },
   "outputs": [],
   "source": [
    "%matplotlib inline\n",
    "import matplotlib.pyplot as plt\n",
    "\n",
    "import pandas as pd\n",
    "import sklearn\n",
    "from sklearn.linear_model import LinearRegression\n",
    "from sklearn.decomposition import TruncatedSVD\n",
    "from sklearn.preprocessing import StandardScaler\n",
    "import numpy as np\n"
   ]
  },
  {
   "cell_type": "markdown",
   "metadata": {},
   "source": [
    "数据预处理。"
   ]
  },
  {
   "cell_type": "code",
   "execution_count": 332,
   "metadata": {
    "collapsed": true,
    "scrolled": true
   },
   "outputs": [],
   "source": [
    "# 读取和预处理数据\n",
    "table = pd.read_csv('train.csv')\n",
    "# 只保留数值特征\n",
    "# 某些字符串特征也可以转换成数值，比如\n",
    "# Street: Type of road access to property\n",
    "#        Grvl\tGravel\t\n",
    "#        Pave\tPaved\n",
    "# 可以把Grvl替换成1，Pave替换成0。简单起见，我们这里不进行字符串到数值的操作\n",
    "numeric_columns = [col for col in train_table.columns if (col not in ('Id', 'MSSubClass')) and (train_table[col].dtype in ('int64', 'float64'))]\n",
    "X = table[numeric_columns]\n",
    "# 去除包含NAN的数据点\n",
    "X = X.dropna()\n",
    "# 获得价格\n",
    "y = X['SalePrice']\n",
    "X = X.drop(['SalePrice'], axis=1)\n",
    "# 将所有的特征的平均值变成0，方差变成1\n",
    "# 我们可以对每个特征做不同的处理，使得每个特征的分布都接近正态分布。这里为了简单略过了这个步骤。\n",
    "scaler = StandardScaler()\n",
    "normal_X = scaler.fit_transform(X)\n",
    "# 将数据分为训练集和测试集\n",
    "X_train, X_test, y_train, y_test = sklearn.model_selection.train_test_split(normal_X, y, test_size=0.1, random_state=42)"
   ]
  },
  {
   "cell_type": "code",
   "execution_count": 334,
   "metadata": {},
   "outputs": [
    {
     "data": {
      "text/html": [
       "<div>\n",
       "<style>\n",
       "    .dataframe thead tr:only-child th {\n",
       "        text-align: right;\n",
       "    }\n",
       "\n",
       "    .dataframe thead th {\n",
       "        text-align: left;\n",
       "    }\n",
       "\n",
       "    .dataframe tbody tr th {\n",
       "        vertical-align: top;\n",
       "    }\n",
       "</style>\n",
       "<table border=\"1\" class=\"dataframe\">\n",
       "  <thead>\n",
       "    <tr style=\"text-align: right;\">\n",
       "      <th></th>\n",
       "      <th>Id</th>\n",
       "      <th>MSSubClass</th>\n",
       "      <th>MSZoning</th>\n",
       "      <th>LotFrontage</th>\n",
       "      <th>LotArea</th>\n",
       "      <th>Street</th>\n",
       "      <th>Alley</th>\n",
       "      <th>LotShape</th>\n",
       "      <th>LandContour</th>\n",
       "      <th>Utilities</th>\n",
       "      <th>...</th>\n",
       "      <th>PoolArea</th>\n",
       "      <th>PoolQC</th>\n",
       "      <th>Fence</th>\n",
       "      <th>MiscFeature</th>\n",
       "      <th>MiscVal</th>\n",
       "      <th>MoSold</th>\n",
       "      <th>YrSold</th>\n",
       "      <th>SaleType</th>\n",
       "      <th>SaleCondition</th>\n",
       "      <th>SalePrice</th>\n",
       "    </tr>\n",
       "  </thead>\n",
       "  <tbody>\n",
       "    <tr>\n",
       "      <th>0</th>\n",
       "      <td>1</td>\n",
       "      <td>60</td>\n",
       "      <td>RL</td>\n",
       "      <td>65.0</td>\n",
       "      <td>8450</td>\n",
       "      <td>Pave</td>\n",
       "      <td>NaN</td>\n",
       "      <td>Reg</td>\n",
       "      <td>Lvl</td>\n",
       "      <td>AllPub</td>\n",
       "      <td>...</td>\n",
       "      <td>0</td>\n",
       "      <td>NaN</td>\n",
       "      <td>NaN</td>\n",
       "      <td>NaN</td>\n",
       "      <td>0</td>\n",
       "      <td>2</td>\n",
       "      <td>2008</td>\n",
       "      <td>WD</td>\n",
       "      <td>Normal</td>\n",
       "      <td>208500</td>\n",
       "    </tr>\n",
       "    <tr>\n",
       "      <th>1</th>\n",
       "      <td>2</td>\n",
       "      <td>20</td>\n",
       "      <td>RL</td>\n",
       "      <td>80.0</td>\n",
       "      <td>9600</td>\n",
       "      <td>Pave</td>\n",
       "      <td>NaN</td>\n",
       "      <td>Reg</td>\n",
       "      <td>Lvl</td>\n",
       "      <td>AllPub</td>\n",
       "      <td>...</td>\n",
       "      <td>0</td>\n",
       "      <td>NaN</td>\n",
       "      <td>NaN</td>\n",
       "      <td>NaN</td>\n",
       "      <td>0</td>\n",
       "      <td>5</td>\n",
       "      <td>2007</td>\n",
       "      <td>WD</td>\n",
       "      <td>Normal</td>\n",
       "      <td>181500</td>\n",
       "    </tr>\n",
       "    <tr>\n",
       "      <th>2</th>\n",
       "      <td>3</td>\n",
       "      <td>60</td>\n",
       "      <td>RL</td>\n",
       "      <td>68.0</td>\n",
       "      <td>11250</td>\n",
       "      <td>Pave</td>\n",
       "      <td>NaN</td>\n",
       "      <td>IR1</td>\n",
       "      <td>Lvl</td>\n",
       "      <td>AllPub</td>\n",
       "      <td>...</td>\n",
       "      <td>0</td>\n",
       "      <td>NaN</td>\n",
       "      <td>NaN</td>\n",
       "      <td>NaN</td>\n",
       "      <td>0</td>\n",
       "      <td>9</td>\n",
       "      <td>2008</td>\n",
       "      <td>WD</td>\n",
       "      <td>Normal</td>\n",
       "      <td>223500</td>\n",
       "    </tr>\n",
       "    <tr>\n",
       "      <th>3</th>\n",
       "      <td>4</td>\n",
       "      <td>70</td>\n",
       "      <td>RL</td>\n",
       "      <td>60.0</td>\n",
       "      <td>9550</td>\n",
       "      <td>Pave</td>\n",
       "      <td>NaN</td>\n",
       "      <td>IR1</td>\n",
       "      <td>Lvl</td>\n",
       "      <td>AllPub</td>\n",
       "      <td>...</td>\n",
       "      <td>0</td>\n",
       "      <td>NaN</td>\n",
       "      <td>NaN</td>\n",
       "      <td>NaN</td>\n",
       "      <td>0</td>\n",
       "      <td>2</td>\n",
       "      <td>2006</td>\n",
       "      <td>WD</td>\n",
       "      <td>Abnorml</td>\n",
       "      <td>140000</td>\n",
       "    </tr>\n",
       "    <tr>\n",
       "      <th>4</th>\n",
       "      <td>5</td>\n",
       "      <td>60</td>\n",
       "      <td>RL</td>\n",
       "      <td>84.0</td>\n",
       "      <td>14260</td>\n",
       "      <td>Pave</td>\n",
       "      <td>NaN</td>\n",
       "      <td>IR1</td>\n",
       "      <td>Lvl</td>\n",
       "      <td>AllPub</td>\n",
       "      <td>...</td>\n",
       "      <td>0</td>\n",
       "      <td>NaN</td>\n",
       "      <td>NaN</td>\n",
       "      <td>NaN</td>\n",
       "      <td>0</td>\n",
       "      <td>12</td>\n",
       "      <td>2008</td>\n",
       "      <td>WD</td>\n",
       "      <td>Normal</td>\n",
       "      <td>250000</td>\n",
       "    </tr>\n",
       "  </tbody>\n",
       "</table>\n",
       "<p>5 rows × 81 columns</p>\n",
       "</div>"
      ],
      "text/plain": [
       "   Id  MSSubClass MSZoning  LotFrontage  LotArea Street Alley LotShape  \\\n",
       "0   1          60       RL         65.0     8450   Pave   NaN      Reg   \n",
       "1   2          20       RL         80.0     9600   Pave   NaN      Reg   \n",
       "2   3          60       RL         68.0    11250   Pave   NaN      IR1   \n",
       "3   4          70       RL         60.0     9550   Pave   NaN      IR1   \n",
       "4   5          60       RL         84.0    14260   Pave   NaN      IR1   \n",
       "\n",
       "  LandContour Utilities    ...     PoolArea PoolQC Fence MiscFeature MiscVal  \\\n",
       "0         Lvl    AllPub    ...            0    NaN   NaN         NaN       0   \n",
       "1         Lvl    AllPub    ...            0    NaN   NaN         NaN       0   \n",
       "2         Lvl    AllPub    ...            0    NaN   NaN         NaN       0   \n",
       "3         Lvl    AllPub    ...            0    NaN   NaN         NaN       0   \n",
       "4         Lvl    AllPub    ...            0    NaN   NaN         NaN       0   \n",
       "\n",
       "  MoSold YrSold  SaleType  SaleCondition  SalePrice  \n",
       "0      2   2008        WD         Normal     208500  \n",
       "1      5   2007        WD         Normal     181500  \n",
       "2      9   2008        WD         Normal     223500  \n",
       "3      2   2006        WD        Abnorml     140000  \n",
       "4     12   2008        WD         Normal     250000  \n",
       "\n",
       "[5 rows x 81 columns]"
      ]
     },
     "execution_count": 334,
     "metadata": {},
     "output_type": "execute_result"
    }
   ],
   "source": [
    "table.head()"
   ]
  },
  {
   "cell_type": "code",
   "execution_count": 330,
   "metadata": {},
   "outputs": [
    {
     "data": {
      "text/plain": [
       "(array([   2.,    0.,   10.,    0.,    0.,   72.,    0.,  277.,    0.,\n",
       "           0.,  235.,    0.,  233.,    0.,    0.,  127.,    0.,   37.,\n",
       "           0.,   15.]),\n",
       " array([-3.05194306, -2.76213127, -2.47231949, -2.1825077 , -1.89269591,\n",
       "        -1.60288412, -1.31307233, -1.02326054, -0.73344875, -0.44363696,\n",
       "        -0.15382517,  0.13598662,  0.42579841,  0.7156102 ,  1.00542199,\n",
       "         1.29523378,  1.58504557,  1.87485736,  2.16466915,  2.45448094,\n",
       "         2.74429273]),\n",
       " <a list of 20 Patch objects>)"
      ]
     },
     "execution_count": 330,
     "metadata": {},
     "output_type": "execute_result"
    },
    {
     "data": {
      "image/png": "[encoded data removed]",
      "text/plain": [
       "<matplotlib.figure.Figure at 0x7f4290a58438>"
      ]
     },
     "metadata": {},
     "output_type": "display_data"
    }
   ],
   "source": [
    "plt.hist(X_train[:,0],bins=20)\n",
    "plt.hist(X_train[:,2],bins=20,alpha=0.3)\n"
   ]
  },
  {
   "cell_type": "markdown",
   "metadata": {},
   "source": [
    "在训练集上进行PCA，选前10个主成分。"
   ]
  },
  {
   "cell_type": "code",
   "execution_count": 338,
   "metadata": {
    "collapsed": true
   },
   "outputs": [],
   "source": [
    "# PCA\n",
    "n_components = 10\n",
    "pca = TruncatedSVD(n_components=n_components)\n",
    "X_train_pca = pca.fit_transform(X_train)\n",
    "X_test_pca = pca.transform(X_test)"
   ]
  },
  {
   "cell_type": "code",
   "execution_count": 339,
   "metadata": {
    "collapsed": true
   },
   "outputs": [],
   "source": [
    "components = pca.components_"
   ]
  },
  {
   "cell_type": "markdown",
   "metadata": {},
   "source": [
    "画图表示每个主成分解释的数据的变化。"
   ]
  },
  {
   "cell_type": "code",
   "execution_count": 340,
   "metadata": {},
   "outputs": [
    {
     "name": "stdout",
     "output_type": "stream",
     "text": [
      "前10个主成分解释了数据中63.81%的变化\n"
     ]
    },
    {
     "data": {
      "image/png": "[encoded data removed]",
      "text/plain": [
       "<matplotlib.figure.Figure at 0x7f429110ecf8>"
      ]
     },
     "metadata": {},
     "output_type": "display_data"
    }
   ],
   "source": [
    "plt.plot(pca.explained_variance_)\n",
    "plt.xlabel('component')\n",
    "plt.ylabel('explained variance')\n",
    "print('前{}个主成分解释了数据中{:.2f}%的变化'.format(n_components, sum(pca.explained_variance_ratio_)*100))"
   ]
  },
  {
   "cell_type": "markdown",
   "metadata": {},
   "source": [
    "通常，同一个主成分的系数绝对值较大的特征之间可能有较强的相关性（符号相同成正相关，符号相反的成负相关）。下面来实际观察一下第一个主成分的系数。"
   ]
  },
  {
   "cell_type": "code",
   "execution_count": 298,
   "metadata": {
    "scrolled": true
   },
   "outputs": [
    {
     "data": {
      "text/plain": [
       "[(0.1697067681744712, 'LotFrontage'),\n",
       " (0.12116719795228986, 'LotArea'),\n",
       " (0.30086654500828525, 'OverallQual'),\n",
       " (-0.10177838778541744, 'OverallCond'),\n",
       " (0.23754114733531356, 'YearBuilt'),\n",
       " (0.21067276594018072, 'YearRemodAdd'),\n",
       " (0.19125461397376922, 'MasVnrArea'),\n",
       " (0.14136512897115119, 'BsmtFinSF1'),\n",
       " (-0.013552910631127143, 'BsmtFinSF2'),\n",
       " (0.11439765110768792, 'BsmtUnfSF'),\n",
       " (0.25935427781576248, 'TotalBsmtSF'),\n",
       " (0.25917802872961937, '1stFlrSF'),\n",
       " (0.11504308229422754, '2ndFlrSF'),\n",
       " (0.0042312726505829845, 'LowQualFinSF'),\n",
       " (0.28778022835222594, 'GrLivArea'),\n",
       " (0.083178776658623943, 'BsmtFullBath'),\n",
       " (-0.021142746465711511, 'BsmtHalfBath'),\n",
       " (0.25499639047719902, 'FullBath'),\n",
       " (0.11080280531027821, 'HalfBath'),\n",
       " (0.10177663457086349, 'BedroomAbvGr'),\n",
       " (-0.010121364885339589, 'KitchenAbvGr'),\n",
       " (0.23572233646658597, 'TotRmsAbvGrd'),\n",
       " (0.17611455114376115, 'Fireplaces'),\n",
       " (0.23726652438745216, 'GarageYrBlt'),\n",
       " (0.28315674291986132, 'GarageCars'),\n",
       " (0.27982773073861411, 'GarageArea'),\n",
       " (0.13036584852420896, 'WoodDeckSF'),\n",
       " (0.16664697644210114, 'OpenPorchSF'),\n",
       " (-0.086025324902518518, 'EnclosedPorch'),\n",
       " (0.010532494547899757, '3SsnPorch'),\n",
       " (0.025561820370312113, 'ScreenPorch'),\n",
       " (0.062465759440726638, 'PoolArea'),\n",
       " (-0.015493482473143434, 'MiscVal'),\n",
       " (0.028399164803053104, 'MoSold'),\n",
       " (-0.011129675100932341, 'YrSold')]"
      ]
     },
     "execution_count": 298,
     "metadata": {},
     "output_type": "execute_result"
    }
   ],
   "source": [
    "list(zip(components[0], numeric_columns))"
   ]
  },
  {
   "cell_type": "markdown",
   "metadata": {},
   "source": [
    "`1stFlrSF`和`GrLivArea`两个系数都比较大，而且都是正数。通过两个变量的散点图检验一下："
   ]
  },
  {
   "cell_type": "code",
   "execution_count": 341,
   "metadata": {
    "scrolled": false
   },
   "outputs": [
    {
     "data": {
      "text/plain": [
       "[<matplotlib.lines.Line2D at 0x7f42924e5f28>]"
      ]
     },
     "execution_count": 341,
     "metadata": {},
     "output_type": "execute_result"
    },
    {
     "data": {
      "image/png": "[encoded data removed]",
      "text/plain": [
       "<matplotlib.figure.Figure at 0x7f429110e780>"
      ]
     },
     "metadata": {},
     "output_type": "display_data"
    }
   ],
   "source": [
    "plt.plot(train_table['1stFlrSF'], train_table['GrLivArea'], '.')"
   ]
  },
  {
   "cell_type": "markdown",
   "metadata": {},
   "source": [
    "看上去确实有正相关性，而且也很容易理解：一层面积越大，生活区的面积通常也越大。再看一下第二个主成分："
   ]
  },
  {
   "cell_type": "code",
   "execution_count": 300,
   "metadata": {},
   "outputs": [
    {
     "data": {
      "text/plain": [
       "[(0.03715547954757472, 'LotFrontage'),\n",
       " (0.0057805303762654813, 'LotArea'),\n",
       " (-0.022651828805917873, 'OverallQual'),\n",
       " (0.067970592365521929, 'OverallCond'),\n",
       " (-0.22033284737879566, 'YearBuilt'),\n",
       " (-0.11768239071513877, 'YearRemodAdd'),\n",
       " (-0.023319241978585668, 'MasVnrArea'),\n",
       " (-0.26828827784468873, 'BsmtFinSF1'),\n",
       " (-0.067786469286949744, 'BsmtFinSF2'),\n",
       " (0.10347427021626904, 'BsmtUnfSF'),\n",
       " (-0.20143446307834828, 'TotalBsmtSF'),\n",
       " (-0.1450185425085658, '1stFlrSF'),\n",
       " (0.43960980847935605, '2ndFlrSF'),\n",
       " (0.11930673970715386, 'LowQualFinSF'),\n",
       " (0.27066982491296904, 'GrLivArea'),\n",
       " (-0.27414033030977131, 'BsmtFullBath'),\n",
       " (-0.0018492248892872493, 'BsmtHalfBath'),\n",
       " (0.12612251149479331, 'FullBath'),\n",
       " (0.23355240674182123, 'HalfBath'),\n",
       " (0.38646612829669841, 'BedroomAbvGr'),\n",
       " (0.1217675810363545, 'KitchenAbvGr'),\n",
       " (0.33718133224197711, 'TotRmsAbvGrd'),\n",
       " (0.06580246386512946, 'Fireplaces'),\n",
       " (-0.18341705147082815, 'GarageYrBlt'),\n",
       " (-0.046416258348563173, 'GarageCars'),\n",
       " (-0.086145798688830821, 'GarageArea'),\n",
       " (-0.048026949450483802, 'WoodDeckSF'),\n",
       " (0.031312702181238376, 'OpenPorchSF'),\n",
       " (0.13379760735753579, 'EnclosedPorch'),\n",
       " (-0.025657524725585718, '3SsnPorch'),\n",
       " (0.042154050663045742, 'ScreenPorch'),\n",
       " (0.030290717685107087, 'PoolArea'),\n",
       " (0.049661320209538791, 'MiscVal'),\n",
       " (0.027535479040727107, 'MoSold'),\n",
       " (-0.045558530693729289, 'YrSold')]"
      ]
     },
     "execution_count": 300,
     "metadata": {},
     "output_type": "execute_result"
    }
   ],
   "source": [
    "list(zip(components[1], numeric_columns))"
   ]
  },
  {
   "cell_type": "markdown",
   "metadata": {},
   "source": [
    "检验一下`2ndFlrSF`和`TotRmsAbvGrd`的正相关性。"
   ]
  },
  {
   "cell_type": "code",
   "execution_count": 301,
   "metadata": {
    "scrolled": true
   },
   "outputs": [
    {
     "data": {
      "text/plain": [
       "[<matplotlib.lines.Line2D at 0x7f42923f0a20>]"
      ]
     },
     "execution_count": 301,
     "metadata": {},
     "output_type": "execute_result"
    },
    {
     "data": {
      "image/png": "[encoded data removed]",
      "text/plain": [
       "<matplotlib.figure.Figure at 0x7f4292438908>"
      ]
     },
     "metadata": {},
     "output_type": "display_data"
    }
   ],
   "source": [
    "plt.plot(train_table['2ndFlrSF'], train_table['TotRmsAbvGrd'], '.')"
   ]
  },
  {
   "cell_type": "code",
   "execution_count": 216,
   "metadata": {},
   "outputs": [
    {
     "data": {
      "text/plain": [
       "[<matplotlib.lines.Line2D at 0x7f42921f7208>]"
      ]
     },
     "execution_count": 216,
     "metadata": {},
     "output_type": "execute_result"
    },
    {
     "data": {
      "image/png": "[encoded data removed]",
      "text/plain": [
       "<matplotlib.figure.Figure at 0x7f42924efa58>"
      ]
     },
     "metadata": {},
     "output_type": "display_data"
    }
   ],
   "source": [
    "plt.plot(train_table['2ndFlrSF'], train_table['GarageArea'], '.')"
   ]
  },
  {
   "cell_type": "markdown",
   "metadata": {},
   "source": [
    "也有一定的正相关性：二层面积越大，房间数通常越多。\n",
    "\n",
    "注意图像左边有一竖列的点，表示有一些房子是没有二层的（二层面积为$0$）。这提示我们二层面积等于$0$和大于$0$的两种情况可能有不同的规律。我们可以为两种情况分别建模。不过实际情况经常是有很多需要分类的特征，比如："
   ]
  },
  {
   "cell_type": "code",
   "execution_count": 302,
   "metadata": {},
   "outputs": [
    {
     "data": {
      "text/plain": [
       "[<matplotlib.lines.Line2D at 0x7f42922fb630>]"
      ]
     },
     "execution_count": 302,
     "metadata": {},
     "output_type": "execute_result"
    },
    {
     "data": {
      "image/png": "[encoded data removed]",
      "text/plain": [
       "<matplotlib.figure.Figure at 0x7f42925b9e48>"
      ]
     },
     "metadata": {},
     "output_type": "display_data"
    }
   ],
   "source": [
    "plt.plot(train_table['2ndFlrSF'], train_table['GarageArea'], '.')"
   ]
  },
  {
   "cell_type": "markdown",
   "metadata": {},
   "source": [
    "不单二层面积可能是$0$，车库面积也有可能是$0$。因此手动给这样不同类型的数据点分别建模通常是不现实的。而我们之后学习的树模型（如决策树）则非常适合这种数据。"
   ]
  },
  {
   "cell_type": "markdown",
   "metadata": {},
   "source": [
    "PCA可以在提取数据的关键信息的同时降低维度，并且减少数值小的不准确性引起的噪声，在预测价格的回归模型里可以用来预处理数据。下面就用PCA处理过的数据建立简单的线性模型来预测房屋价格。"
   ]
  },
  {
   "cell_type": "code",
   "execution_count": 342,
   "metadata": {},
   "outputs": [
    {
     "name": "stdout",
     "output_type": "stream",
     "text": [
      "前10个PCA主成分进行线性回归的MSE是1839068279.229298\n"
     ]
    }
   ],
   "source": [
    "model = LinearRegression()\n",
    "model.fit(X_train_pca, y_train)\n",
    "print('前{}个PCA主成分进行线性回归的MSE是{}'.format(\n",
    "    n_components,\n",
    "    sklearn.metrics.mean_squared_error(y_test, model.predict(X_test_pca))))"
   ]
  },
  {
   "cell_type": "code",
   "execution_count": 343,
   "metadata": {},
   "outputs": [
    {
     "name": "stdout",
     "output_type": "stream",
     "text": [
      "不进行PCA的线性回归的MSE是1639942883.8291323\n"
     ]
    }
   ],
   "source": [
    "model = LinearRegression()\n",
    "model.fit(X_train, y_train)\n",
    "# sklearn.metrics.mean_squared_error(y_test, model.predict(X_test))\n",
    "print('不进行PCA的线性回归的MSE是{}'.format(\n",
    "    sklearn.metrics.mean_squared_error(y_test, model.predict(X_test))))"
   ]
  },
  {
   "cell_type": "markdown",
   "metadata": {},
   "source": [
    "经过PCA处理的数据用于线性回归，尽管效果略差，数据量已经大大减少（以维数来比较，数据量是原来的三分之一以下）。PCA在数据点不足（维数比数据点多）的情况下对建模有重要的意义。"
   ]
  },
  {
   "cell_type": "code",
   "execution_count": 312,
   "metadata": {},
   "outputs": [
    {
     "name": "stdout",
     "output_type": "stream",
     "text": [
      "前10个PCA主成分进行线性回归的MSE是1642818822.3530037\n",
      "前10个PCA主成分进行线性回归的MSE是1642818822.3529549\n",
      "前10个PCA主成分进行线性回归的MSE是1642818822.3524895\n",
      "前10个PCA主成分进行线性回归的MSE是1642818822.3471863\n",
      "前10个PCA主成分进行线性回归的MSE是1642818822.3005185\n",
      "前10个PCA主成分进行线性回归的MSE是1642818821.7415216\n",
      "前10个PCA主成分进行线性回归的MSE是1642818817.1179564\n",
      "前10个PCA主成分进行线性回归的MSE是1642818756.7038784\n",
      "前10个PCA主成分进行线性回归的MSE是1642818283.0732892\n",
      "前10个PCA主成分进行线性回归的MSE是1642813588.5752766\n"
     ]
    }
   ],
   "source": [
    "from sklearn import linear_model\n",
    "for i in range (10):\n",
    "    a=-10+i\n",
    "    alpha=10**a\n",
    "    model = linear_model.Lasso(alpha=alpha)\n",
    "    model.fit(X_train, y_train)\n",
    "    print('前{}个PCA主成分进行线性回归的MSE是{}'.format(\n",
    "        n_components,\n",
    "        sklearn.metrics.mean_squared_error(y_test, model.predict(X_test))))"
   ]
  }
 ],
 "metadata": {
  "kernelspec": {
   "display_name": "Python 3",
   "language": "python",
   "name": "python3"
  },
  "language_info": {
   "codemirror_mode": {
    "name": "ipython",
    "version": 3
   },
   "file_extension": ".py",
   "mimetype": "text/x-python",
   "name": "python",
   "nbconvert_exporter": "python",
   "pygments_lexer": "ipython3",
   "version": "3.6.1"
  }
 },
 "nbformat": 4,
 "nbformat_minor": 2
}
