{
 "cells": [
  {
   "cell_type": "code",
   "execution_count": 1,
   "metadata": {
    "collapsed": false
   },
   "outputs": [
   ],
   "source": [
    "import numpy as np\n",
    "import math"
   ]
  },
  {
   "cell_type": "code",
   "execution_count": 2,
   "metadata": {
    "collapsed": false
   },
   "outputs": [
   ],
   "source": [
    "#普通阶乘\n",
    "def fact(n):\n",
    "    if n == 0:\n",
    "        return 1\n",
    "    else:\n",
    "        return n*fact(n-1)\n",
    "#普通Cmn\n",
    "def Cmn(m,n):\n",
    "    return fact(m)/(fact(m-n)*fact(n))"
   ]
  },
  {
   "cell_type": "code",
   "execution_count": 3,
   "metadata": {
    "collapsed": false
   },
   "outputs": [
   ],
   "source": [
    "class Option(object):\n",
    "\n",
    "    def __init__(self,s0,u,d,r,t,n,k,type=''):\n",
    "        self.s0=s0\n",
    "        self.u=u\n",
    "        self.d=d\n",
    "        self.r=r\n",
    "        self.t=t\n",
    "        self.n=n\n",
    "        self.k=k\n",
    "        self.type=type\n",
    "\n",
    "    def Eu_price(self):\n",
    "        time=float(self.t)/self.n\n",
    "        #u=math.exp(self.sigma*time**0.5)\n",
    "        #d=math.exp(-self.sigma*time**0.5)\n",
    "        q=(math.exp(self.r*time)-self.d)/(self.u-self.d)\n",
    "        payment=0\n",
    "        for i in range(self.n+1):\n",
    "            if self.type=='Call':\n",
    "                pay=max(((self.s0*self.d**i*self.u**(self.n-i))-self.k),0)\n",
    "            elif self.type=='Put':\n",
    "                pay=max(((self.k-self.s0*self.d**i*self.u**(self.n-i))),0)\n",
    "            ppay=pay*Cmn(self.n,i)*(1-q)**i*q**(self.n-i)\n",
    "            payment+=ppay\n",
    "        payment=payment/math.exp(self.r*self.t)\n",
    "        return payment"
   ]
  },
  {
   "cell_type": "code",
   "execution_count": 4,
   "metadata": {
    "collapsed": false
   },
   "outputs": [
    {
     "name": "stdout",
     "output_type": "stream",
     "text": [
      "Price of Euro.Put: 0.210736 \n",
      "\n"
     ]
    }
   ],
   "source": [
    "newoption = Option(10.0,1.1,0.95,0.04,1.0,2,9.8,type='Put')\n",
    "\n",
    "print (\"Price of Euro.Put: %f \\n\" % newoption.Eu_price())"
   ]
  },
  {
   "cell_type": "code",
   "execution_count": 5,
   "metadata": {
    "collapsed": false
   },
   "outputs": [
    {
     "name": "stdout",
     "output_type": "stream",
     "text": [
      "Price of Euro.Call: 33.103562 \n",
      "\n"
     ]
    }
   ],
   "source": [
    "newoption = Option(80,1.5,0.7,0.08,3,3,70,type='Call')\n",
    "\n",
    "print (\"Price of Euro.Call: %f \\n\" % newoption.Eu_price())"
   ]
  },
  {
   "cell_type": "code",
   "execution_count": 6,
   "metadata": {
    "collapsed": false
   },
   "outputs": [
    {
     "name": "stdout",
     "output_type": "stream",
     "text": [
      "5.5535541123212\n"
     ]
    }
   ],
   "source": [
    "def nCr(n,r):\n",
    "    f = math.factorial\n",
    "    return f(n) / (f(r) * f(n-r))\n",
    "\n",
    "class Option(object):\n",
    "\n",
    "    def __init__(self,s0,sigma,r,t,n,k,type=''):\n",
    "        self.s0=s0\n",
    "        self.sigma=sigma\n",
    "        self.r=r\n",
    "        self.t=t\n",
    "        self.n=n\n",
    "        self.k=k\n",
    "        self.type=type\n",
    "\n",
    "\n",
    "    def Eu_price(self):\n",
    "        time=float(self.t)/self.n\n",
    "        u=math.exp(self.sigma*time**0.5)\n",
    "        d=math.exp(-self.sigma*time**0.5)\n",
    "        p=(math.exp(self.r*time)-d)/(u-d)\n",
    "        payment=0\n",
    "        for i in range(self.n+1):\n",
    "            if self.type=='Call':\n",
    "                pay=max(((self.s0*u**(self.n-2*i))-self.k),0)\n",
    "            elif self.type=='Put':\n",
    "                pay=max(self.k-((self.s0*u**(self.n-2*i))),0)\n",
    "            ppay=pay*nCr(self.n,i)*((1-p)**i)*(p**(self.n-i))\n",
    "            payment+=ppay\n",
    "        payment=payment/math.exp(self.r*self.t)\n",
    "        return payment\n",
    "#××××××××××××××××××××××××××××××××××××××××××××××#\n",
    "\n",
    "newoption = Option(100.0,0.2,0.05,1.0,100,100.0,type='Put')\n",
    "\n",
    "print (newoption.Eu_price())\n",
    "#××××××××××××××××××××××××××××××××××××××××××××××#"
   ]
  },
  {
   "cell_type": "code",
   "execution_count": 0,
   "metadata": {
    "collapsed": false
   },
   "outputs": [
   ],
   "source": [
   ]
  }
 ],
 "metadata": {
  "kernelspec": {
   "display_name": "Python 3 (Anaconda 5)",
   "language": "python",
   "name": "anaconda5"
  },
  "language_info": {
   "codemirror_mode": {
    "name": "ipython",
    "version": 3
   },
   "file_extension": ".py",
   "mimetype": "text/x-python",
   "name": "python",
   "nbconvert_exporter": "python",
   "pygments_lexer": "ipython3",
   "version": "3.6.5"
  }
 },
 "nbformat": 4,
 "nbformat_minor": 0
}